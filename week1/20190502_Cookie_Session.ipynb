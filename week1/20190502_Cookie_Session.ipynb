{
 "cells": [
  {
   "cell_type": "markdown",
   "metadata": {},
   "source": [
    "GET"
   ]
  },
  {
   "cell_type": "code",
   "execution_count": 1,
   "metadata": {},
   "outputs": [
    {
     "data": {
      "text/plain": [
       "(200,\n",
       " {'Access-Control-Allow-Credentials': 'true', 'Access-Control-Allow-Origin': '*', 'Content-Encoding': 'gzip', 'Content-Type': 'application/json', 'Date': 'Thu, 02 May 2019 12:12:47 GMT', 'Referrer-Policy': 'no-referrer-when-downgrade', 'Server': 'nginx', 'X-Content-Type-Options': 'nosniff', 'X-Frame-Options': 'DENY', 'X-XSS-Protection': '1; mode=block', 'Content-Length': '198', 'Connection': 'keep-alive'},\n",
       " b'{\\n  \"args\": {\\n    \"Key\": \"Value\"\\n  }, \\n  \"headers\": {\\n    \"Accept\": \"*/*\", \\n    \"Accept-Encoding\": \"gzip, deflate\", \\n    \"Host\": \"httpbin.org\", \\n    \"User-Agent\": \"python-requests/2.21.0\"\\n  }, \\n  \"origin\": \"115.91.55.67, 115.91.55.67\", \\n  \"url\": \"https://httpbin.org/get?Key=Value\"\\n}\\n')"
      ]
     },
     "execution_count": 1,
     "metadata": {},
     "output_type": "execute_result"
    }
   ],
   "source": [
    "import requests\n",
    "\n",
    "resp = requests.request('get','http://httpbin.org/get',params={'Key':'Value'})\n",
    "resp.status_code, resp.headers, resp.content"
   ]
  },
  {
   "cell_type": "markdown",
   "metadata": {},
   "source": [
    "POST"
   ]
  },
  {
   "cell_type": "code",
   "execution_count": 2,
   "metadata": {
    "scrolled": true
   },
   "outputs": [
    {
     "data": {
      "text/plain": [
       "(200,\n",
       " {'Access-Control-Allow-Credentials': 'true', 'Access-Control-Allow-Origin': '*', 'Content-Encoding': 'gzip', 'Content-Type': 'application/json', 'Date': 'Thu, 02 May 2019 12:12:49 GMT', 'Referrer-Policy': 'no-referrer-when-downgrade', 'Server': 'nginx', 'X-Content-Type-Options': 'nosniff', 'X-Frame-Options': 'DENY', 'X-XSS-Protection': '1; mode=block', 'Content-Length': '239', 'Connection': 'keep-alive'},\n",
       " b'{\\n  \"args\": {\\n    \"Key\": \"Value\"\\n  }, \\n  \"data\": \"\", \\n  \"files\": {}, \\n  \"form\": {}, \\n  \"headers\": {\\n    \"Accept\": \"*/*\", \\n    \"Accept-Encoding\": \"gzip, deflate\", \\n    \"Content-Length\": \"0\", \\n    \"Host\": \"httpbin.org\", \\n    \"User-Agent\": \"python-requests/2.21.0\"\\n  }, \\n  \"json\": null, \\n  \"origin\": \"115.91.55.67, 115.91.55.67\", \\n  \"url\": \"https://httpbin.org/post?Key=Value\"\\n}\\n')"
      ]
     },
     "execution_count": 2,
     "metadata": {},
     "output_type": "execute_result"
    }
   ],
   "source": [
    "resp = requests.request('post','http://httpbin.org/post',params={'Key':'Value'})\n",
    "resp.status_code, resp.headers, resp.content"
   ]
  },
  {
   "cell_type": "code",
   "execution_count": 62,
   "metadata": {},
   "outputs": [],
   "source": [
    "from urllib import parse\n",
    "\n",
    "header = {'user-agent':'Mozilla/5.0 (Windows NT 10.0; Win64; x64) AppleWebKit/537.36 (KHTML, like Gecko) Chrome/73.0.3683.103 Safari/537.36'}\n",
    "\n",
    "def getDownload(url, params={}, retries=3):\n",
    "    resp = None\n",
    "    \n",
    "    try:\n",
    "        resp = requests.get(url, params=params, headers=header)\n",
    "        resp.raise_for_status()\n",
    "    except requests.exceptions.HTTPError as e:\n",
    "        if 500 <= e.response.status_code < 600 and retries > 0:\n",
    "            print(retries)\n",
    "            resp = getDownload(url, params, retries-1)\n",
    "        else:\n",
    "            print(e.response.status_code)\n",
    "            print(e.response.reason)\n",
    "            print(e.response.headers)\n",
    "            \n",
    "    return resp"
   ]
  },
  {
   "cell_type": "code",
   "execution_count": 12,
   "metadata": {},
   "outputs": [
    {
     "data": {
      "text/plain": [
       "('{\\n  \"args\": {\\n    \"Key\": \"Value\"\\n  }, \\n  \"headers\": {\\n    \"Accept\": \"*/*\", \\n    \"Accept-Encoding\": \"gzip, deflate\", \\n    \"Host\": \"httpbin.org\", \\n    \"User-Agent\": \"Mozilla/5.0 (Windows NT 10.0; Win64; x64) AppleWebKit/537.36 (KHTML, like Gecko) Chrome/73.0.3683.103 Safari/537.36\"\\n  }, \\n  \"origin\": \"115.91.55.67, 115.91.55.67\", \\n  \"url\": \"https://httpbin.org/get?Key=Value\"\\n}\\n',\n",
       " b'{\\n  \"args\": {\\n    \"Key\": \"Value\"\\n  }, \\n  \"headers\": {\\n    \"Accept\": \"*/*\", \\n    \"Accept-Encoding\": \"gzip, deflate\", \\n    \"Host\": \"httpbin.org\", \\n    \"User-Agent\": \"Mozilla/5.0 (Windows NT 10.0; Win64; x64) AppleWebKit/537.36 (KHTML, like Gecko) Chrome/73.0.3683.103 Safari/537.36\"\\n  }, \\n  \"origin\": \"115.91.55.67, 115.91.55.67\", \\n  \"url\": \"https://httpbin.org/get?Key=Value\"\\n}\\n')"
      ]
     },
     "execution_count": 12,
     "metadata": {},
     "output_type": "execute_result"
    }
   ],
   "source": [
    "html = getDownload('http://httpbin.org/get',{'Key':'Value'})\n",
    "html.text, html.content"
   ]
  },
  {
   "cell_type": "markdown",
   "metadata": {},
   "source": [
    "### http://www.crawler-test.com/status_codes/status_ \n",
    "#### (Error Test Url) status_ 뒤에 뭐가 붙냐에 따라 Error가 달라짐 ex) status_403 "
   ]
  },
  {
   "cell_type": "code",
   "execution_count": 13,
   "metadata": {},
   "outputs": [
    {
     "name": "stdout",
     "output_type": "stream",
     "text": [
      "3\n",
      "2\n",
      "1\n",
      "500\n",
      "Internal Server Error\n",
      "{'Content-Encoding': 'gzip', 'Content-Type': 'text/html', 'Date': 'Thu, 02 May 2019 12:13:21 GMT', 'Server': 'nginx/1.10.3', 'Vary': 'Accept-Encoding', 'X-Content-Type-Options': 'nosniff', 'X-Frame-Options': 'SAMEORIGIN', 'X-XSS-Protection': '1; mode=block', 'Content-Length': '46', 'Connection': 'keep-alive'}\n"
     ]
    }
   ],
   "source": [
    "html = getDownload('http://www.crawler-test.com/status_codes/status_500')"
   ]
  },
  {
   "cell_type": "code",
   "execution_count": 14,
   "metadata": {},
   "outputs": [],
   "source": [
    "url = 'http://openapi.airkorea.or.kr/openapi/services/rest/ArpltnInforInqireSvc/getCtprvnRltmMesureDnsty'\n",
    "params = {\n",
    "    'serviceKey':'uUV3bYpGK%2B%2FKA%2ByjKHJ7UMoD2TVkEqcBP71WikTHPqyM6%2ByOufXY2%2BTerSXcPkeIM58OHp9A3qt9TP14WdsZHQ%3D%3D',\n",
    "    'numOfRows':10,\n",
    "    'pageNo':1,\n",
    "    'sidoName':'인천',\n",
    "    'ver':1.3,\n",
    "    '_returnType':'json'\n",
    "}"
   ]
  },
  {
   "cell_type": "code",
   "execution_count": 18,
   "metadata": {},
   "outputs": [
    {
     "data": {
      "text/plain": [
       "'<?xml version=\"1.0\" encoding=\"UTF-8\"?>\\r\\n\\r\\n\\r\\n\\r\\n\\r\\n<response>\\r\\n\\t<header>\\r\\n\\t\\t<resultCode>30</resultCode>\\r\\n\\t\\t<resultMsg>SERVICE KEY IS NOT REGISTERED ERROR.</resultMsg>\\r\\n\\t</header>\\r\\n</response>\\r\\n'"
      ]
     },
     "execution_count": 18,
     "metadata": {},
     "output_type": "execute_result"
    }
   ],
   "source": [
    "result = getDownload(url, params)\n",
    "result.text"
   ]
  },
  {
   "cell_type": "code",
   "execution_count": 19,
   "metadata": {},
   "outputs": [
    {
     "data": {
      "text/plain": [
       "'http://openapi.airkorea.or.kr/openapi/services/rest/ArpltnInforInqireSvc/getCtprvnRltmMesureDnsty?serviceKey=uUV3bYpGK%252B%252FKA%252ByjKHJ7UMoD2TVkEqcBP71WikTHPqyM6%252ByOufXY2%252BTerSXcPkeIM58OHp9A3qt9TP14WdsZHQ%253D%253D&numOfRows=10&pageNo=1&sidoName=%EC%9D%B8%EC%B2%9C&ver=1.3&_returnType=json'"
      ]
     },
     "execution_count": 19,
     "metadata": {},
     "output_type": "execute_result"
    }
   ],
   "source": [
    "result.url"
   ]
  },
  {
   "cell_type": "code",
   "execution_count": 21,
   "metadata": {},
   "outputs": [],
   "source": [
    "org = requests.utils.unquote(params['serviceKey'])\n",
    "params['serviceKey'] = org\n",
    "result = getDownload(url, params)"
   ]
  },
  {
   "cell_type": "code",
   "execution_count": 22,
   "metadata": {},
   "outputs": [],
   "source": [
    "import json\n",
    "result = json.loads(result.text)"
   ]
  },
  {
   "cell_type": "code",
   "execution_count": 23,
   "metadata": {},
   "outputs": [
    {
     "name": "stdout",
     "output_type": "stream",
     "text": [
      "신흥 12\n",
      "송림 13\n",
      "구월동 8\n",
      "숭의 12\n",
      "석바위 15\n",
      "부평역 16\n",
      "부평 11\n",
      "연희 14\n",
      "검단 15\n",
      "계산 16\n"
     ]
    }
   ],
   "source": [
    "for row in result['list']:\n",
    "    print(row['stationName'], row['pm25Value'])"
   ]
  },
  {
   "cell_type": "markdown",
   "metadata": {},
   "source": [
    "### http://pythonscraping.com/pages/files/form.html # Test Url"
   ]
  },
  {
   "cell_type": "code",
   "execution_count": 56,
   "metadata": {},
   "outputs": [
    {
     "data": {
      "text/plain": [
       "{'user-agent': 'Mozilla/5.0 (Windows NT 10.0; Win64; x64) AppleWebKit/537.36 (KHTML, like Gecko) Chrome/73.0.3683.103 Safari/537.36', 'Accept-Encoding': 'gzip, deflate', 'Accept': '*/*', 'Connection': 'keep-alive'}"
      ]
     },
     "execution_count": 56,
     "metadata": {},
     "output_type": "execute_result"
    }
   ],
   "source": [
    "url = 'http://pythonscraping.com/pages/files/form.html'\n",
    "\n",
    "html = getDownload(url, {'firstname':'1234','lastname':'1234'})\n",
    "html.request.headers"
   ]
  },
  {
   "cell_type": "code",
   "execution_count": 57,
   "metadata": {},
   "outputs": [
    {
     "data": {
      "text/plain": [
       "'<h2>Tell me your name!</h2>\\n<form method=\"post\" action=\"processing.php\">\\nFirst name: <input type=\"text\" name=\"firstname\"><br>\\nLast name: <input type=\"text\" name=\"lastname\"><br>\\n<input type=\"submit\" value=\"Submit\" id=\"submit\">\\n</form>'"
      ]
     },
     "execution_count": 57,
     "metadata": {},
     "output_type": "execute_result"
    }
   ],
   "source": [
    "html.text"
   ]
  },
  {
   "cell_type": "code",
   "execution_count": 141,
   "metadata": {},
   "outputs": [],
   "source": [
    "url = 'http://pythonscraping.com/pages/files/processing.php'\n",
    "\n",
    "html = getDownload(url, {'firstname':'1234','lastname':'1234'})\n",
    "html.request.body"
   ]
  },
  {
   "cell_type": "code",
   "execution_count": 142,
   "metadata": {},
   "outputs": [
    {
     "data": {
      "text/plain": [
       "'Hello there,  !'"
      ]
     },
     "execution_count": 142,
     "metadata": {},
     "output_type": "execute_result"
    }
   ],
   "source": [
    "html.text"
   ]
  },
  {
   "cell_type": "code",
   "execution_count": 143,
   "metadata": {},
   "outputs": [
    {
     "data": {
      "text/plain": [
       "'firstname=1234&lastname=1234'"
      ]
     },
     "execution_count": 143,
     "metadata": {},
     "output_type": "execute_result"
    }
   ],
   "source": [
    "html = requests.post(url, {'firstname':'1234','lastname':'1234'})\n",
    "html.request.body"
   ]
  },
  {
   "cell_type": "markdown",
   "metadata": {},
   "source": [
    "## Cookie 이용 방식"
   ]
  },
  {
   "cell_type": "markdown",
   "metadata": {},
   "source": [
    "### Before"
   ]
  },
  {
   "cell_type": "code",
   "execution_count": 130,
   "metadata": {},
   "outputs": [
    {
     "data": {
      "text/plain": [
       "'\\n<h2>Welcome to the Website!</h2>\\nWhoops! You logged in wrong. Try again with any username, and the password \"password\"<br><a href=\"login.html\">Log in here</a>'"
      ]
     },
     "execution_count": 130,
     "metadata": {},
     "output_type": "execute_result"
    }
   ],
   "source": [
    "url = 'http://pythonscraping.com/pages/cookies/welcome.php'\n",
    "\n",
    "html = requests.post(url, {'username':'test','password':'password'})\n",
    "html.text"
   ]
  },
  {
   "cell_type": "markdown",
   "metadata": {},
   "source": [
    "### After"
   ]
  },
  {
   "cell_type": "code",
   "execution_count": 131,
   "metadata": {},
   "outputs": [
    {
     "data": {
      "text/plain": [
       "{'loggedin': '1', 'username': 'test'}"
      ]
     },
     "execution_count": 131,
     "metadata": {},
     "output_type": "execute_result"
    }
   ],
   "source": [
    "html.cookies.get_dict()"
   ]
  },
  {
   "cell_type": "code",
   "execution_count": 132,
   "metadata": {},
   "outputs": [
    {
     "data": {
      "text/plain": [
       "'\\n<h2>Welcome to the Website!</h2>\\nYou have logged in successfully! <br><a href=\"profile.php\">Check out your profile!</a>'"
      ]
     },
     "execution_count": 132,
     "metadata": {},
     "output_type": "execute_result"
    }
   ],
   "source": [
    "html = requests.get(url, cookies=html.cookies)\n",
    "html.text"
   ]
  },
  {
   "cell_type": "markdown",
   "metadata": {},
   "source": [
    "## Session 이용 방식"
   ]
  },
  {
   "cell_type": "code",
   "execution_count": 133,
   "metadata": {},
   "outputs": [],
   "source": [
    "session = requests.Session()"
   ]
  },
  {
   "cell_type": "code",
   "execution_count": 134,
   "metadata": {},
   "outputs": [],
   "source": [
    "html = session.post(url, {'username':'test','password':'password'})"
   ]
  },
  {
   "cell_type": "code",
   "execution_count": 135,
   "metadata": {},
   "outputs": [
    {
     "data": {
      "text/plain": [
       "'\\n<h2>Welcome to the Website!</h2>\\nYou have logged in successfully! <br><a href=\"profile.php\">Check out your profile!</a>'"
      ]
     },
     "execution_count": 135,
     "metadata": {},
     "output_type": "execute_result"
    }
   ],
   "source": [
    "html = session.post(url)\n",
    "html.text"
   ]
  },
  {
   "cell_type": "markdown",
   "metadata": {},
   "source": [
    "### www.timetime.kr Session Test"
   ]
  },
  {
   "cell_type": "markdown",
   "metadata": {},
   "source": [
    "### DATA 일치"
   ]
  },
  {
   "cell_type": "code",
   "execution_count": 144,
   "metadata": {},
   "outputs": [],
   "source": [
    "url = 'http://www.timetime.kr/user/login'\n",
    "data = {'username':'누구게요','password':'test123'}"
   ]
  },
  {
   "cell_type": "code",
   "execution_count": 145,
   "metadata": {},
   "outputs": [
    {
     "data": {
      "text/plain": [
       "'<!DOCTYPE html><html lang=\"ko\"><head><meta charset=\"utf-8\"><meta http-equiv=\"X-UA-Compatible\" content=\"IE=Edge\"><meta name=\"viewport\" content=\"minimum-scale=1,initial-scale=1\"><title>티메티메</title><link rel=\"stylesheet\" href=\"https://maxcdn.bootstrapcdn.com/twitter-bootstrap/2.3.2/css/bootstrap-combined.no-icons.min.css\"><link rel=\"stylesheet\" href=\"/css/all.css\"><link rel=\"stylesheet\" href=\"//fonts.googleapis.com/css?family=Magra:700\"><meta name=\"description\" content=\"연대, 이대, 서강대 학부 대상 시간표 작성 및 수업 정보 공유\"><meta name=\"keywords\" content=\"티메티메, 시간표, 수강, 학점, 수업, 연대, 연세대, 이대, 이화여대, 서강대\"><meta name=\"naver-site-verification\" content=\"29062f8364368b34ca07ce0a2e7fb11e9486b06c\"></head><body><p class=\"old-browser\">이 문구가 보인다면 오래된 브라우저를 사용하는 겁니다.\\n서비스를 제대로 사용하기 어려울 수 있어요.</p><div class=\"container text-center\"><div class=\"margin4\"></div><h1 class=\"logo\"> timetime</h1><div class=\"margin2\"><ol class=\"inline\"><li><a accesskey=\"1\" href=\"/t/\">시간표</a></li><li><a accesskey=\"2\" href=\"/calculator/\">계산기</a></li><li><a accesskey=\"3\" href=\"/rating/\">수업이야기</a></li></ol></div><p>연대, 이대, 서강대를 지원합니다.<br> 이번 학기 <strong>13,201</strong>명이 참여 중.</p><p class=\"margin2\"><strong>누구게요</strong>로 로그인 하셨어요.\\n <a accesskey=\"-\" href=\"/user/logout\">로그아웃</a></p><p>이 서비스를 유용하게 사용하셨다면, <br>\\n다른 학우들을 위해 수업이야기에도 글을 써 주세요!</p><p>티메티메는 타임테이블의 코드로 운영되는 사이트입니다. 타임테이블과는 다른 사이트입니다.</p></div><address>타임테이블 2006–2016 by <a href=\"http://github.com/timetabl\">holies</a>, 티메티메 2016-2017  by <a href=\"mailto:timetimekr2016@gmail.com\">timetimekr2016@gmail.com</a>, <a href=\"http://timetime.kr/user/add/\">개인정보처리방침</a></address><script src=\"/js/googleaz.js\"></script></body></html>'"
      ]
     },
     "execution_count": 145,
     "metadata": {},
     "output_type": "execute_result"
    }
   ],
   "source": [
    "session = requests.Session()\n",
    "html = session.post(url, data)\n",
    "html.text"
   ]
  },
  {
   "cell_type": "markdown",
   "metadata": {},
   "source": [
    "### DATA 불일치"
   ]
  },
  {
   "cell_type": "code",
   "execution_count": 146,
   "metadata": {},
   "outputs": [],
   "source": [
    "data = {'username':'누구게요','password':'틀린비밀번호'}"
   ]
  },
  {
   "cell_type": "code",
   "execution_count": 147,
   "metadata": {},
   "outputs": [
    {
     "data": {
      "text/plain": [
       "'<!DOCTYPE html><html lang=\"ko\"><head><meta charset=\"utf-8\"><meta http-equiv=\"X-UA-Compatible\" content=\"IE=Edge\"><meta name=\"viewport\" content=\"minimum-scale=1,initial-scale=1\"><title>티메티메</title><link rel=\"stylesheet\" href=\"https://maxcdn.bootstrapcdn.com/twitter-bootstrap/2.3.2/css/bootstrap-combined.no-icons.min.css\"><link rel=\"stylesheet\" href=\"/css/all.css\"><link rel=\"stylesheet\" href=\"//fonts.googleapis.com/css?family=Magra:700\"></head><body><p class=\"old-browser\">이 문구가 보인다면 오래된 브라우저를 사용하는 겁니다.\\n서비스를 제대로 사용하기 어려울 수 있어요.</p><div class=\"margin6\"><div class=\"header\"><div class=\"container\"><div class=\"brand\"><a href=\"/\" target=\"_top\" accesskey=\"`\"><span class=\"hidden-phone hidden-m\"> timetime</span></a></div><ul class=\"unstyled\"><li><a href=\"/\" target=\"_top\" accesskey=\"-\">로그인</a></li></ul><ul class=\"unstyled\"><li><a target=\"_top\" accesskey=\"1\" href=\"/t/\">시간표</a></li><li><a target=\"_top\" accesskey=\"2\" href=\"/calculator/\">계산기</a></li><li><a target=\"_top\" accesskey=\"3\" href=\"/rating/\">수업이야기</a></li></ul></div></div></div><div class=\"container text-center margin6\"><p>누구세요? O_O</p><p><button onclick=\"location.replace(document.referrer)\" class=\"btn btn-primary\">돌아가기</button></p></div><address>타임테이블 2006–2016 by <a href=\"http://github.com/timetabl\">holies</a>, 티메티메 2016-2017  by <a href=\"mailto:timetimekr2016@gmail.com\">timetimekr2016@gmail.com</a>, <a href=\"http://timetime.kr/user/add/\">개인정보처리방침</a></address><script src=\"/js/googleaz.js\"></script></body></html>'"
      ]
     },
     "execution_count": 147,
     "metadata": {},
     "output_type": "execute_result"
    }
   ],
   "source": [
    "session = requests.Session()\n",
    "html = session.post(url, data)\n",
    "html.text"
   ]
  },
  {
   "cell_type": "markdown",
   "metadata": {},
   "source": [
    "## 교보문고"
   ]
  },
  {
   "cell_type": "code",
   "execution_count": null,
   "metadata": {},
   "outputs": [],
   "source": [
    "url = 'http://'\n",
    "params={\n",
    "    'vPStrCategory':'TOT',\n",
    "    'vPstrKeyWrod';'hi',\n",
    "    'vPplace':'top'\n",
    "}\n",
    "html = request.post(url,params)\n"
   ]
  }
 ],
 "metadata": {
  "kernelspec": {
   "display_name": "Python 3",
   "language": "python",
   "name": "python3"
  },
  "language_info": {
   "codemirror_mode": {
    "name": "ipython",
    "version": 3
   },
   "file_extension": ".py",
   "mimetype": "text/x-python",
   "name": "python",
   "nbconvert_exporter": "python",
   "pygments_lexer": "ipython3",
   "version": "3.6.8"
  }
 },
 "nbformat": 4,
 "nbformat_minor": 2
}
