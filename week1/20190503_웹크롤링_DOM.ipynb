{
 "cells": [
  {
   "cell_type": "markdown",
   "metadata": {},
   "source": [
    "# DOM\n",
    "자연어처리를 하라면 정규식과 친해져야한다. 진입장벽은 좀 있지만, 그래도 친해져야한다.  \n",
    "\n",
    "## DOM\n",
    "HTML에서 HTML Parser을 통해서 트리구조인 DOM을 만든다.  \n",
    "여기서 우리는 남이 만들어둔 라이브러리인 HTML Parser을 가져다가 쓸 것이다. DOM에서 내가 원하는 데이터를 순차적으로 찾아낼 것이다.\n",
    "cf. CSSOM\n",
    "\n",
    "Document 에서 시작해서 `<HTML>`태그부터 시작해서 데이터가 트리구조로 형성되어있다.\n",
    "\n",
    "## BeautifulSoup\n",
    "웹에서 가져온 데이터를 bs4가 알아서 DOM형태로 만들어준다. 이렇게 좋은 라이브러리를 설치하기 위해서는 아래와 같은 명령어를 치면 된다\n",
    "> pip install beautifulsoup4 \n",
    "\n",
    "bs4에서 지원해주는 parser의 종류\n",
    "1. Python's html.parser\n",
    "2. lxml's HTML parser\n",
    "3. lxml's XML parser\n",
    "4. html5lib"
   ]
  },
  {
   "cell_type": "code",
   "execution_count": null,
   "metadata": {},
   "outputs": [],
   "source": []
  },
  {
   "cell_type": "code",
   "execution_count": null,
   "metadata": {},
   "outputs": [],
   "source": []
  }
 ],
 "metadata": {
  "kernelspec": {
   "display_name": "Python 3",
   "language": "python",
   "name": "python3"
  },
  "language_info": {
   "codemirror_mode": {
    "name": "ipython",
    "version": 3
   },
   "file_extension": ".py",
   "mimetype": "text/x-python",
   "name": "python",
   "nbconvert_exporter": "python",
   "pygments_lexer": "ipython3",
   "version": "3.6.8"
  }
 },
 "nbformat": 4,
 "nbformat_minor": 2
}
